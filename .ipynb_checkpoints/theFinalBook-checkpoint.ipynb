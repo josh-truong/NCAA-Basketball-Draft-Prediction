{
 "cells": [
  {
   "cell_type": "markdown",
   "id": "44a9b884",
   "metadata": {},
   "source": [
    "# Preprocessing "
   ]
  },
  {
   "cell_type": "markdown",
   "id": "e03a4d7b",
   "metadata": {},
   "source": [
    "1) Import and remove corrupt/inconsistant/unnecessary data\n",
    "\n",
    "2) Drop cols. with >60% missing data (nan values) \n",
    "\n",
    "3) Remove highly corrilated features with corrilation above 70%\n",
    "\n",
    "4) Change target variable 'pick' to 1 if value is 1-60, else to 0\n",
    "\n",
    "5) Merge each individual player into 1 row/player\n",
    "\n",
    "6) Remove all players who still have >15% missing data \n",
    "\n",
    "7) split into training and testing data\n",
    "\n",
    "8) Use KNN to fill in any remaining missing data/Nan values\n",
    "\n",
    "9) Feature selection with random forest classifier \n",
    "\n"
   ]
  },
  {
   "cell_type": "code",
   "execution_count": 1,
   "id": "00f7381e",
   "metadata": {},
   "outputs": [],
   "source": [
    "import numpy as np\n",
    "import pandas as pd\n",
    "import seaborn as sns\n",
    "import matplotlib.pyplot as plt\n",
    "import glob\n",
    "import warnings\n",
    "from sklearn.experimental import enable_halving_search_cv\n",
    "from sklearn.model_selection import train_test_split, GridSearchCV,HalvingRandomSearchCV\n",
    "from sklearn.linear_model import LinearRegression, Ridge, Lasso, LogisticRegression\n",
    "from sklearn import metrics, preprocessing\n",
    "from sklearn.impute import KNNImputer\n",
    "from sklearn.preprocessing import LabelEncoder\n",
    "from sklearn.tree import DecisionTreeClassifier\n",
    "from sklearn.svm import SVC\n",
    "from sklearn.ensemble import RandomForestClassifier, VotingClassifier\n",
    "from sklearn.metrics import precision_score, recall_score, f1_score, accuracy_score\n",
    "from sklearn.cluster import KMeans\n",
    "from sklearn.neighbors import KNeighborsClassifier\n",
    "from sklearn.ensemble import RandomForestClassifier\n",
    "from sklearn.feature_selection import SelectFromModel\n",
    "from sklearn.preprocessing import StandardScaler\n",
    "from sklearn.metrics import classification_report, accuracy_score\n"
   ]
  },
  {
   "cell_type": "code",
   "execution_count": 2,
   "id": "82f786a0",
   "metadata": {},
   "outputs": [
    {
     "name": "stdout",
     "output_type": "stream",
     "text": [
      "(61061, 60)\n"
     ]
    }
   ],
   "source": [
    "playerDf = pd.read_csv('data/CollegeBasketballPlayers2009-2021.csv', low_memory=False)\n",
    "\n",
    "#initial dropping of inconsistant data for player data \n",
    "playerDf = playerDf.rename(columns = {'Unnamed: 64' : 'role_position'})\n",
    "playerDf = playerDf.drop('Unnamed: 65', axis=1) # Has no meaning in the dataset\n",
    "playerDf = playerDf.drop('ht', axis=1) # Temporarily excluding this column due to inconsistent date formats and other values\n",
    "playerDf = playerDf.drop('num', axis=1) # It might denote a player's choice or position but with significant variation in meaning.\n",
    "playerDf = playerDf.drop('type', axis=1) # Column has 1 unique value\n",
    "playerDf= playerDf.drop('pid', axis=1) # catigorical, not needed \n",
    "playerDf= playerDf.drop('yr', axis=1) # catigorical, not needed \n",
    "\n",
    "print(playerDf.shape)"
   ]
  },
  {
   "cell_type": "code",
   "execution_count": 3,
   "id": "e5885a23",
   "metadata": {},
   "outputs": [
    {
     "name": "stdout",
     "output_type": "stream",
     "text": [
      "Player  DF: Column 'Rec Rank': Number of NaN: 42591 Percentage: 69.75%\n",
      "Player  DF: Column 'pick': Number of NaN: 59626 Percentage: 97.65%\n"
     ]
    }
   ],
   "source": [
    "# Count and remove columns with over 60% nan values from players\n",
    "total = len(playerDf)\n",
    "for column in playerDf.columns:\n",
    "    count = playerDf[column].isna().sum()\n",
    "    percent= (count/ total) * 100\n",
    "    if (percent>=60):\n",
    "        print(f\"Player  DF: Column '{column}':\", f\"Number of NaN: {count}\", f\"Percentage: {percent:.2f}%\")"
   ]
  },
  {
   "cell_type": "code",
   "execution_count": 4,
   "id": "6eb80c64",
   "metadata": {},
   "outputs": [],
   "source": [
    "playerDf = playerDf.drop('Rec Rank', axis=1) "
   ]
  },
  {
   "cell_type": "code",
   "execution_count": 5,
   "id": "89c2193f",
   "metadata": {},
   "outputs": [
    {
     "name": "stderr",
     "output_type": "stream",
     "text": [
      "C:\\Users\\joshk\\AppData\\Local\\Temp\\ipykernel_12644\\1290011257.py:2: FutureWarning: The default value of numeric_only in DataFrame.corr is deprecated. In a future version, it will default to False. Select only valid columns or specify the value of numeric_only to silence this warning.\n",
      "  player_corr_matrix = playerDf.corr()\n",
      "C:\\Users\\joshk\\AppData\\Local\\Temp\\ipykernel_12644\\1290011257.py:4: FutureWarning: The default value of numeric_only in DataFrame.corr is deprecated. In a future version, it will default to False. Select only valid columns or specify the value of numeric_only to silence this warning.\n",
      "  corr_df = playerDf.corr().abs()\n"
     ]
    },
    {
     "name": "stdout",
     "output_type": "stream",
     "text": [
      "['Min_per', 'Ortg', 'FTM', 'twoPM', 'TPM', 'rimmade', 'midmade', 'dunksmade', 'dreb']\n"
     ]
    }
   ],
   "source": [
    "#remove redundant/highly corrilated data \n",
    "player_corr_matrix = playerDf.corr()\n",
    "correlation_threshold = 0.95\n",
    "corr_df = playerDf.corr().abs()\n",
    "mask = np.triu(np.ones_like(corr_df, dtype=bool))\n",
    "tri_df = corr_df.mask(mask)\n",
    "\n",
    "# Find columns that meet threshold\n",
    "features_to_drop = [c for c in tri_df.columns if any(tri_df[c] >= correlation_threshold)]\n",
    "print(features_to_drop)"
   ]
  },
  {
   "cell_type": "code",
   "execution_count": 6,
   "id": "523eeee8",
   "metadata": {},
   "outputs": [
    {
     "name": "stdout",
     "output_type": "stream",
     "text": [
      "Shape of the DataFrame after removing highly correlated features: (61061, 50)\n"
     ]
    }
   ],
   "source": [
    "# Remove the highly correlated features from the DataFrame\n",
    "playerDf = playerDf.drop(columns=features_to_drop, axis=1)\n",
    "\n",
    "# Display the new shape of the DataFrame\n",
    "print(\"Shape of the DataFrame after removing highly correlated features:\", playerDf.shape)"
   ]
  },
  {
   "cell_type": "code",
   "execution_count": 7,
   "id": "90df4c0b",
   "metadata": {},
   "outputs": [],
   "source": [
    "#if drafted, change to 1 since values for drafted are 1-60 and not drafted is saved as nan\n",
    "playerDf.loc[playerDf[\"pick\"] > 0, \"pick\"] = 1\n",
    "#not drafted was nan, replace with 0 \n",
    "playerDf.loc[playerDf[\"pick\"] != 1, \"pick\"] = 0"
   ]
  },
  {
   "cell_type": "code",
   "execution_count": 8,
   "id": "43555d11",
   "metadata": {},
   "outputs": [],
   "source": [
    "#merge the players so 1 player/row\n",
    "categorical_columns = ['player_name', 'team', 'role_position', 'conf']\n",
    "\n",
    "# Function to calculate weighted average\n",
    "def weighted_avg(group):\n",
    "    categorical_data = group.iloc[-1, group.columns.isin(categorical_columns)]\n",
    "    data_to_ave = group.drop(columns=categorical_columns).mean(numeric_only=True)\n",
    "    \n",
    "    if any(group['pick'] == 1):\n",
    "        group['pick'] = 1\n",
    "    return pd.concat([categorical_data, data_to_ave])\n",
    "\n",
    "# Group by player name and team, then apply weighted average\n",
    "playerDf['player_name'] = playerDf['player_name'].str.lower()\n",
    "player_grouped = playerDf.groupby(['player_name', 'team'], as_index=False).apply(weighted_avg)\n",
    "player_grouped.reset_index(drop=True, inplace=True)"
   ]
  },
  {
   "cell_type": "code",
   "execution_count": 9,
   "id": "03e14eea",
   "metadata": {},
   "outputs": [
    {
     "name": "stdout",
     "output_type": "stream",
     "text": [
      "(61061, 50)\n",
      "(30200, 50)\n"
     ]
    }
   ],
   "source": [
    "print(playerDf.shape)\n",
    "print(player_grouped.shape)"
   ]
  },
  {
   "cell_type": "code",
   "execution_count": 10,
   "id": "b4393afe",
   "metadata": {},
   "outputs": [],
   "source": [
    "#don't need name anymore \n",
    "player_grouped = player_grouped.drop('player_name', axis=1) \n",
    "playerDf=player_grouped"
   ]
  },
  {
   "cell_type": "code",
   "execution_count": 11,
   "id": "9199887b",
   "metadata": {},
   "outputs": [],
   "source": [
    "#drop any players who still have >15% missing values \n",
    "threshold = 15\n",
    "missing_percentage = (playerDf.isnull().sum(axis=1) / playerDf.shape[1]) * 100\n",
    "rows_to_drop = []\n",
    "\n",
    "for index, percentage in missing_percentage.items():\n",
    "    if percentage > threshold:\n",
    "        rows_to_drop.append(index)\n",
    "\n",
    "playerDf = playerDf.drop(index=rows_to_drop)\n"
   ]
  },
  {
   "cell_type": "code",
   "execution_count": 12,
   "id": "73aefb8b",
   "metadata": {},
   "outputs": [],
   "source": [
    "#Encode catigorical data \n",
    "team_label_encoder = LabelEncoder()\n",
    "playerDf['team'] = team_label_encoder.fit_transform(playerDf['team'])\n",
    "\n",
    "conf_label_encoder = LabelEncoder()\n",
    "playerDf['conf'] = conf_label_encoder.fit_transform(playerDf['conf'])\n",
    "\n",
    "role_position_label_encoder = LabelEncoder()\n",
    "playerDf['role_position'] = role_position_label_encoder.fit_transform(playerDf['role_position'])\n"
   ]
  },
  {
   "cell_type": "code",
   "execution_count": 13,
   "id": "63f1538c",
   "metadata": {},
   "outputs": [],
   "source": [
    "#split into training and testing data to avoid any overlap \n",
    "trainDf=playerDf.loc[playerDf['year'] <2021]\n",
    "testDf= playerDf.loc[playerDf['year'] >= 2021]"
   ]
  },
  {
   "cell_type": "code",
   "execution_count": 14,
   "id": "ccf2d57b",
   "metadata": {},
   "outputs": [
    {
     "name": "stdout",
     "output_type": "stream",
     "text": [
      "(27462, 49)\n",
      "(2527, 49)\n"
     ]
    }
   ],
   "source": [
    "print(trainDf.shape)\n",
    "print(testDf.shape)"
   ]
  },
  {
   "cell_type": "code",
   "execution_count": 15,
   "id": "62cfe1e2",
   "metadata": {},
   "outputs": [],
   "source": [
    "#KNN fill in NAN values \n",
    "def fillNan(df):\n",
    "    imputer = KNNImputer(n_neighbors=11)\n",
    "    imputed_numeric = imputer.fit_transform(df.select_dtypes(include=np.number))\n",
    "    dfBasketballTraining_filled = pd.DataFrame(imputed_numeric, columns=df.select_dtypes(include=np.number).columns)\n",
    "\n",
    "    string_columns = df.select_dtypes(include='object').columns\n",
    "    imputed_data = pd.concat([df[string_columns].reset_index(drop=True), dfBasketballTraining_filled], axis=1)\n",
    "\n",
    "    return pd.DataFrame(imputed_data, columns=df.columns)"
   ]
  },
  {
   "cell_type": "code",
   "execution_count": 16,
   "id": "34b7c559",
   "metadata": {},
   "outputs": [],
   "source": [
    "trainDf=fillNan(trainDf)\n",
    "testDf=fillNan(testDf)"
   ]
  },
  {
   "cell_type": "code",
   "execution_count": 17,
   "id": "2d3e70c6",
   "metadata": {},
   "outputs": [],
   "source": [
    "#Scale data  \n",
    "def scaleData(df):\n",
    "    exclude=['team', 'conf', 'year', 'role_position', 'pick']\n",
    "    colToScale= [col for col in df.columns if col not in exclude]\n",
    "    \n",
    "    scaler = StandardScaler()\n",
    "    scaledData = df.copy()  \n",
    "    scaledData[colToScale] = scaler.fit_transform(df[colToScale])\n",
    "    \n",
    "    return pd.DataFrame(scaledData, columns=df.columns) "
   ]
  },
  {
   "cell_type": "code",
   "execution_count": 18,
   "id": "62d11516",
   "metadata": {},
   "outputs": [],
   "source": [
    "trainDf=scaleData(trainDf)\n",
    "testDf=scaleData(testDf)"
   ]
  },
  {
   "cell_type": "code",
   "execution_count": 19,
   "id": "9a84ba57",
   "metadata": {},
   "outputs": [
    {
     "name": "stdout",
     "output_type": "stream",
     "text": [
      "Selected features:\n",
      "Index(['GP', 'twoPA', 'porpag', 'adjoe', 'midmade+midmiss',\n",
      "       'dunksmiss+dunksmade', 'adrtg', 'dporpag', 'stops', 'bpm', 'obpm',\n",
      "       'gbpm', 'ogbpm', 'pts'],\n",
      "      dtype='object')\n",
      "Feature importance scores:\n",
      "[0.01510635 0.0125381  0.0053867  0.02772262 0.01520091 0.01225151\n",
      " 0.0133716  0.01117966 0.01380057 0.01309693 0.01544391 0.01833696\n",
      " 0.01386437 0.02379051 0.01219302 0.01372305 0.01082903 0.01258047\n",
      " 0.01247102 0.01256495 0.03593986 0.03450695 0.01210924 0.00978605\n",
      " 0.0156857  0.02056887 0.02358549 0.0182079  0.01346155 0.038278\n",
      " 0.01228887 0.01824181 0.03670815 0.06747227 0.03987794 0.05263042\n",
      " 0.0254149  0.01985548 0.05568875 0.01867065 0.03046465 0.01862918\n",
      " 0.01301714 0.017273   0.01294539 0.01460204 0.01598204 0.02265548]\n"
     ]
    }
   ],
   "source": [
    "#feature selection with random forest \n",
    "X = trainDf.drop(\"pick\", axis=1)\n",
    "y = trainDf[\"pick\"]\n",
    "\n",
    "X_train, X_test, y_train, y_test = train_test_split(X, y, test_size=0.3, random_state=42)\n",
    "\n",
    "# Fit a RandomForestClassifier\n",
    "rf_classifier = RandomForestClassifier(n_estimators=100)\n",
    "rf_classifier.fit(X_train, y_train)\n",
    "\n",
    "#importance\n",
    "sel = SelectFromModel(rf_classifier)\n",
    "sel.fit(X_train, y_train)\n",
    "\n",
    "# Get support and selected feature names\n",
    "selected_feature_indices = sel.get_support()\n",
    "selected_features = X_train.columns[selected_feature_indices]\n",
    "\n",
    "print(\"Selected features:\")\n",
    "print(selected_features)\n",
    "\n",
    "print(\"Feature importance scores:\")\n",
    "print(sel.estimator_.feature_importances_)\n"
   ]
  },
  {
   "cell_type": "markdown",
   "id": "84c39f3a",
   "metadata": {},
   "source": [
    "# Model "
   ]
  },
  {
   "cell_type": "markdown",
   "id": "70ae9b77",
   "metadata": {},
   "source": [
    "1) Model: first tested training with k-fold cross validation \n",
    "\n",
    "2) Model: second tested training by balancing data "
   ]
  },
  {
   "cell_type": "markdown",
   "id": "a26a952b",
   "metadata": {},
   "source": [
    "## Model: training with k-fold cross validation"
   ]
  },
  {
   "cell_type": "code",
   "execution_count": 20,
   "id": "a9ffb8b9",
   "metadata": {},
   "outputs": [],
   "source": [
    "from sklearn.model_selection import KFold\n",
    "from sklearn.metrics import precision_score, recall_score, f1_score, accuracy_score\n",
    "\n",
    "def train(model, data, features, target='pick', n_splits=10):\n",
    "    data = data.sample(frac=1, random_state=42).reset_index(drop=True)\n",
    "    \n",
    "    train_scores = {'k': [], 'Accuracy': [], 'Precision': [], 'Recall': [], 'F1 Score': []}\n",
    "    val_scores = {'k': [], 'Accuracy': [], 'Precision': [], 'Recall': [], 'F1 Score': []}\n",
    "    \n",
    "    kf = KFold(n_splits=n_splits, shuffle=True, random_state=42)\n",
    "\n",
    "    for i, (train_index, test_index) in enumerate(kf.split(data)):\n",
    "        train_set = data.iloc[train_index]\n",
    "        test_set = data.iloc[test_index]\n",
    "\n",
    "        train_X, train_y = train_set[features], train_set[target]\n",
    "        test_X, test_y = test_set[features], test_set[target]\n",
    "\n",
    "        # Assuming you have an instantiated model\n",
    "        model.fit(train_X, train_y)\n",
    "        \n",
    "        train_predictions = model.predict(train_X)\n",
    "        val_predictions = model.predict(test_X)\n",
    "        \n",
    "        # Evaluate metrics for training set\n",
    "        train_accuracy = accuracy_score(train_y, train_predictions)\n",
    "        train_precision = precision_score(train_y, train_predictions)\n",
    "        train_recall = recall_score(train_y, train_predictions)\n",
    "        train_f1 = f1_score(train_y, train_predictions)\n",
    "        \n",
    "        # Store metrics for later analysis\n",
    "        train_scores['k'].append(i+1)\n",
    "        train_scores['Accuracy'].append(train_accuracy)\n",
    "        train_scores['Precision'].append(train_precision)\n",
    "        train_scores['Recall'].append(train_recall)\n",
    "        train_scores['F1 Score'].append(train_f1)\n",
    "\n",
    "        # Evaluate metrics for validation set\n",
    "        val_accuracy = accuracy_score(test_y, val_predictions)\n",
    "        val_precision = precision_score(test_y, val_predictions)\n",
    "        val_recall = recall_score(test_y, val_predictions)\n",
    "        val_f1 = f1_score(test_y, val_predictions)\n",
    "        \n",
    "        # Store metrics for later analysis\n",
    "        val_scores['k'].append(i+1)\n",
    "        val_scores['Accuracy'].append(val_accuracy)\n",
    "        val_scores['Precision'].append(val_precision)\n",
    "        val_scores['Recall'].append(val_recall)\n",
    "        val_scores['F1 Score'].append(val_f1)\n",
    "        \n",
    "\n",
    "    # Calculate average metrics across all folds for training set\n",
    "    avg_train_precision = np.mean(train_scores['Precision'])\n",
    "    avg_train_recall = np.mean(train_scores['Recall'])\n",
    "    avg_train_f1 = np.mean(train_scores['F1 Score'])\n",
    "    avg_train_accuracy = np.mean(train_scores['Accuracy'])\n",
    "\n",
    "    # Calculate average metrics across all folds for validation set\n",
    "    avg_val_precision = np.mean(val_scores['Precision'])\n",
    "    avg_val_recall = np.mean(val_scores['Recall'])\n",
    "    avg_val_f1 = np.mean(val_scores['F1 Score'])\n",
    "    avg_val_accuracy = np.mean(val_scores['Accuracy'])\n",
    "\n",
    "    print(f\"[Train] Average Accuracy: {avg_train_accuracy}\")\n",
    "    print(f\"[Train] Average Precision: {avg_train_precision}\")\n",
    "    print(f\"[Train] Average Recall: {avg_train_recall}\")\n",
    "    print(f\"[Train] Average F1 Score: {avg_train_f1}\")\n",
    "\n",
    "    print(f\"[Validation] Average Accuracy: {avg_val_accuracy}\")\n",
    "    print(f\"[Validation] Average Precision: {avg_val_precision}\")\n",
    "    print(f\"[Validation] Average Recall: {avg_val_recall}\")\n",
    "    print(f\"[Validation] Average F1 Score: {avg_val_f1}\")\n",
    "    \n",
    "    return train_scores, val_scores"
   ]
  },
  {
   "cell_type": "code",
   "execution_count": 21,
   "id": "06d011c9",
   "metadata": {},
   "outputs": [],
   "source": [
    "features=['porpag','adjoe','adrtg', 'bpm', 'obpm', 'dbpm', 'ogbpm', 'dgbpm', 'pts']\n",
    "# features=selected_features\n",
    "# features=['usg', 'DRB_per', 'AST_per', 'TO_per', 'twoP_per', 'blk_per', 'porpag','bpm', 'dbpm', 'ogbpm', 'dgbpm']\n",
    "# features= [ 'treb', 'ast','stl', 'blk', 'pts']"
   ]
  },
  {
   "cell_type": "code",
   "execution_count": null,
   "id": "0f7ead49",
   "metadata": {},
   "outputs": [],
   "source": [
    "#citations: \n",
    "#video: https://aleksandarhaber.com/ensemble-learning-in-scikit-learn-voting-classifiers/\n",
    "#Documentation: https://scikit-learn.org/stable/modules/generated/sklearn.ensemble.VotingClassifier.html\n",
    "#build model \n",
    "\n",
    "#the 3 models for the ensemble \n",
    "logreg = LogisticRegression(class_weight=\"balanced\", multi_class='multinomial', max_iter=2000, random_state=42)\n",
    "randFor = RandomForestClassifier(class_weight=\"balanced_subsample\", n_estimators=60, random_state=42)\n",
    "svm = SVC(probability=True, random_state=42)\n",
    "                       \n",
    "# voting ensemble classifier \n",
    "model = VotingClassifier(n_jobs=-1, estimators=[('lr', logreg), ('rf', randFor), ('svm', svm)], voting='soft')\n",
    "\n",
    "train_metrics, val_metrics = train(model, trainDf, features, n_splits=10)"
   ]
  },
  {
   "cell_type": "code",
   "execution_count": null,
   "id": "8f2366a4",
   "metadata": {},
   "outputs": [],
   "source": [
    "fig, ax = plt.subplots()\n",
    "\n",
    "plt.plot(train_metrics['k'], train_metrics['Accuracy'], label='Train Score')\n",
    "plt.plot(val_metrics['k'], val_metrics['Accuracy'], label='Validation Accuracy')\n",
    "\n",
    "ax.set_xlabel('Metrics')\n",
    "ax.set_ylabel('Scores')\n",
    "ax.set_title('Validation Curve')\n",
    "ax.legend()\n",
    "\n",
    "plt.show()"
   ]
  },
  {
   "cell_type": "code",
   "execution_count": null,
   "id": "ba1bdc40",
   "metadata": {},
   "outputs": [],
   "source": [
    "train_means = [np.mean(train_metrics['Accuracy']),\n",
    "               np.mean(train_metrics['Precision']),\n",
    "               np.mean(train_metrics['Recall']),\n",
    "               np.mean(train_metrics['F1 Score'])]\n",
    "\n",
    "val_means = [np.mean(val_metrics['Accuracy']),\n",
    "             np.mean(val_metrics['Precision']),\n",
    "             np.mean(val_metrics['Recall']),\n",
    "             np.mean(val_metrics['F1 Score'])]\n",
    "\n",
    "labels = ['Accuracy', 'Precision', 'Recall', 'F1 Score']\n",
    "bar_width = 0.35\n",
    "index = np.arange(len(labels))\n",
    "\n",
    "fig, ax = plt.subplots()\n",
    "bar1 = ax.bar(index, train_means, bar_width, label='Train')\n",
    "bar2 = ax.bar(index + bar_width, val_means, bar_width, label='Validation')\n",
    "\n",
    "ax.set_xlabel('Metrics')\n",
    "ax.set_ylabel('Mean Scores')\n",
    "ax.set_title('Mean Train and Validation Scores for Different Metrics')\n",
    "ax.set_xticks(index + bar_width / 2)\n",
    "ax.set_xticklabels(labels)\n",
    "ax.legend()\n",
    "\n",
    "plt.show()"
   ]
  },
  {
   "cell_type": "code",
   "execution_count": null,
   "id": "cc76db90",
   "metadata": {},
   "outputs": [],
   "source": [
    "# Create subplots\n",
    "fig, (ax1, ax2) = plt.subplots(1, 2, figsize=(15, 6))\n",
    "\n",
    "# Plot for train_metrics\n",
    "ax1.plot(train_metrics['k'], train_metrics['Precision'], label='Precision')\n",
    "ax1.plot(train_metrics['k'], train_metrics['Recall'], label='Recall')\n",
    "ax1.plot(train_metrics['k'], train_metrics['F1 Score'], label='F1 Score')\n",
    "ax1.plot(train_metrics['k'], train_metrics['Accuracy'], label='Accuracy')\n",
    "\n",
    "# Customize the plot for train_metrics\n",
    "ax1.set_title('Train Performance Metrics over Folds')\n",
    "ax1.set_xlabel('Fold')\n",
    "ax1.set_ylabel('Metric Value')\n",
    "ax1.legend()\n",
    "ax1.grid(True)\n",
    "\n",
    "# Plot for test_metrics\n",
    "ax2.plot(val_metrics['k'], val_metrics['Precision'], label='Precision')\n",
    "ax2.plot(val_metrics['k'], val_metrics['Recall'], label='Recall')\n",
    "ax2.plot(val_metrics['k'], val_metrics['F1 Score'], label='F1 Score')\n",
    "ax2.plot(val_metrics['k'], val_metrics['Accuracy'], label='Accuracy')\n",
    "\n",
    "# Customize the plot for test_metrics\n",
    "ax2.set_title('Validation Performance Metrics over Folds')\n",
    "ax2.set_xlabel('Fold')\n",
    "ax2.set_ylabel('Metric Value')\n",
    "ax2.legend()\n",
    "ax2.grid(True)\n",
    "\n",
    "# Adjust layout to prevent clipping of titles\n",
    "plt.tight_layout()\n",
    "\n",
    "# Show the plot\n",
    "plt.show()"
   ]
  },
  {
   "cell_type": "code",
   "execution_count": null,
   "id": "241ba1d9",
   "metadata": {},
   "outputs": [],
   "source": [
    "#test the model \n",
    "test_X, test_y = testDf[features], testDf['pick']\n",
    "\n",
    "# Predict if player was selected for the draft on the test set\n",
    "y_pred_test = model.predict(test_X)\n",
    "\n",
    "#preformance metrics for test set\n",
    "accuracy = accuracy_score(test_y, y_pred_test)\n",
    "precision = precision_score(test_y, y_pred_test)\n",
    "recall = recall_score(test_y, y_pred_test)\n",
    "f1 = f1_score(test_y, y_pred_test)\n",
    "\n",
    "print('[Test] Accuracy:', accuracy)\n",
    "print('[Test] Precision:', precision)\n",
    "print('[Test] Recall:', recall)\n",
    "print('[Test] F1-score:', f1)"
   ]
  },
  {
   "cell_type": "code",
   "execution_count": null,
   "id": "6e12f77e",
   "metadata": {},
   "outputs": [],
   "source": [
    "#plot testing \n",
    "metrics = ['Accuracy','Precision', 'Recall', 'F1 Score']\n",
    "scores = [accuracy, precision, recall , f1]\n",
    "\n",
    "plt.figure(figsize=(8, 5))\n",
    "plt.bar(metrics, scores, color=['orange','blue', 'orange', 'blue'])\n",
    "plt.xlabel('Metrics')\n",
    "plt.ylabel('Scores')\n",
    "plt.title('Performance Metrics on Test Set')\n",
    "plt.ylim(0, 1)\n",
    "plt.show()"
   ]
  },
  {
   "attachments": {
    "image-2.png": {
     "image/png": "[encoded data removed]"
    },
    "image-3.png": {
     "image/png": "[encoded data removed]"
    },
    "image-5.png": {
     "image/png": "[encoded data removed]"
    },
    "image-6.png": {
     "image/png": "[encoded data removed]"
    },
    "image.png": {
     "image/png": "[encoded data removed]"
    }
   },
   "cell_type": "markdown",
   "id": "0076f0aa",
   "metadata": {},
   "source": [
    "## Test run pref values for cross fold and various features selected:\n",
    "\n",
    "1) 5 training sets, features = ['GP', 'FTA', 'porpag', 'adjoe', 'adrtg', 'bpm', 'obpm', 'dbpm', 'blk', 'pts']\n",
    "![image.png](attachment:image.png)\n",
    "\n",
    "2) 5 training sets, features=['usg', 'DRB_per', 'AST_per', 'TO_per',  'twoP_per', 'blk_per', 'porpag','bpm', 'dbpm', 'ogbpm', 'dgbpm']\n",
    "\n",
    "![image-2.png](attachment:image-2.png)\n",
    "\n",
    "3) 5 training sets, features=['porpag', 'adjoe','adrtg', 'bpm', 'obpm', 'dbpm', 'ogbpm', 'dgbpm', 'pts']\n",
    "\n",
    "![image-3.png](attachment:image-3.png)\n",
    "\n",
    "## best\n",
    "4) 6 training sets, features=['porpag','adjoe','adrtg', 'bpm', 'obpm', 'dbpm', 'ogbpm', 'dgbpm', 'pts']\n",
    "\n",
    "![image-6.png](attachment:image-6.png)\n",
    "\n",
    "5) 6 training sets, features=['conf', 'role_position','rimmade/(rimmade+rimmiss)', 'midmade/(midmade+midmiss)',\n",
    "       'dunksmiss+dunksmade', 'dunksmade/(dunksmade+dunksmiss)', 'ast','stl', 'blk']\n",
    "\n",
    "![image-5.png](attachment:image-5.png)\n",
    "\n",
    "6) 6 training sets,  features=[ 'treb', 'ast','stl', 'blk', 'pts']\n",
    "\n",
    "0's across the board \n",
    "\n",
    "\n",
    "Conclusion, aggrigated data values 'porpag','adjoe','adrtg', 'bpm', 'obpm', 'dbpm', 'ogbpm', 'dgbpm' as well as 'pts' are best predictors. Knowing how the agrigated values are found can help players understand what areas they need to improve to increase odd of being drafted.\n"
   ]
  },
  {
   "cell_type": "markdown",
   "id": "441b5958",
   "metadata": {},
   "source": [
    "## Model: training with semi balanced data"
   ]
  },
  {
   "cell_type": "code",
   "execution_count": null,
   "id": "d7aee82f",
   "metadata": {},
   "outputs": [],
   "source": [
    "\n",
    "def kFoldTrain(model, sets, features, target='pick'):\n",
    "    prefMetrics = {'Validation set': [], 'Precision': [], 'Recall': [], 'F1 Score': []}\n",
    "    correctPred = 0\n",
    "    totalPred = 0\n",
    "\n",
    "    for j in range(len(sets)):\n",
    "        valSet = sets[j]\n",
    "        \n",
    "        for i in range(len(sets)):\n",
    "            # Don't train validation set against the validation set \n",
    "            if i != j:\n",
    "                # Remove the target variable pick from the training and testing data \n",
    "                trainSet = sets[i]\n",
    "                trainNoTarget = trainSet[features]\n",
    "                trainTarget = trainSet[target]\n",
    "                valNoTarget = valSet[features]\n",
    "                valTarget = valSet[target]\n",
    "                \n",
    "                model.fit(trainNoTarget, trainTarget)\n",
    "                \n",
    "                # Make predictions with the validation set \n",
    "                predVals = model.predict(valNoTarget)\n",
    "\n",
    "                # Calculate metrics\n",
    "                prefMetrics['Validation set'].append(j+1)\n",
    "                prefMetrics['Precision'].append(precision_score(valTarget, predVals))\n",
    "                prefMetrics['Recall'].append(recall_score(valTarget, predVals))\n",
    "                prefMetrics['F1 Score'].append(f1_score(valTarget, predVals))\n",
    "\n",
    "                # Update correct predictions and total predictions for expected preformance accuracy \n",
    "                correctPred += np.sum(predVals == valTarget)\n",
    "                totalPred += len(valTarget)\n",
    "\n",
    "    expAccuracy = correctPred / totalPred\n",
    "\n",
    "    return expAccuracy, prefMetrics\n",
    "                "
   ]
  },
  {
   "cell_type": "code",
   "execution_count": null,
   "id": "1a3c2eed",
   "metadata": {},
   "outputs": [],
   "source": [
    "def get_training_data(dataframe, existing_data, replacement):\n",
    "    notDraftedCount = 200\n",
    "    drafted = int(notDraftedCount*0.10)\n",
    "    \n",
    "    not_drafted_mask = (dataframe['pick'] == 0) & (~dataframe.isin(existing_data).all(axis=1))\n",
    "    drafted_mask = (dataframe['pick'] == 1) & (~dataframe.isin(existing_data).all(axis=1))\n",
    "    \n",
    "    not_drafted = dataframe[not_drafted_mask].sample(n=notDraftedCount, replace=replacement)\n",
    "    drafted = dataframe[drafted_mask].sample(n=drafted, replace=replacement)\n",
    "    \n",
    "    not_drafted = not_drafted.drop_duplicates().reset_index(drop=True)\n",
    "    drafted = drafted.drop_duplicates().reset_index(drop=True)\n",
    "    \n",
    "    return not_drafted, drafted"
   ]
  },
  {
   "cell_type": "code",
   "execution_count": null,
   "id": "c2649157",
   "metadata": {},
   "outputs": [],
   "source": [
    "def get_sets():\n",
    "    trainingSets = []\n",
    "    existing_data = pd.DataFrame()\n",
    "\n",
    "    for i in range(10):\n",
    "        not_drafted, drafted = get_training_data(trainDf, existing_data, False)\n",
    "        existing_data = pd.concat([existing_data, not_drafted, drafted], ignore_index=True)\n",
    "        trainingSets.append(pd.concat([not_drafted, drafted], ignore_index=True).copy())\n",
    "    return trainingSets"
   ]
  },
  {
   "cell_type": "code",
   "execution_count": null,
   "id": "fc4dd6ac",
   "metadata": {},
   "outputs": [],
   "source": [
    "def run_training(t):\n",
    "    logreg = LogisticRegression(multi_class='multinomial', max_iter=2000, random_state=42)\n",
    "    randFor = RandomForestClassifier(n_estimators=73, random_state=109)\n",
    "    svm = SVC(probability=True, random_state=42) \n",
    "\n",
    "\n",
    "    # voting ensemble classifier \n",
    "    model = VotingClassifier(estimators=[('lr', logreg), ('rf', randFor), ('svm', svm)], voting='soft')\n",
    "\n",
    "    features=['porpag','adjoe','adrtg', 'bpm', 'obpm', 'dbpm', 'ogbpm', 'dgbpm', 'pts']\n",
    "    # voting ensemble classifier \n",
    "\n",
    "    ExpAccuracy,trainMetrics=kFoldTrain(model, t, features)\n",
    "    metricDf=pd.DataFrame(trainMetrics)\n",
    "    return ExpAccuracy, metricDf, model"
   ]
  },
  {
   "cell_type": "code",
   "execution_count": null,
   "id": "af693815",
   "metadata": {},
   "outputs": [],
   "source": [
    "def train_stats(ExpAccuracy, metricDf):\n",
    "    print(\"Accuracy estimate for the model: \", ExpAccuracy)\n",
    "    print(\"Precision estimate for the model: \", metricDf['Precision'].mean())\n",
    "    print(\"Recall estimate for the model: \", metricDf['Recall'].mean())\n",
    "    print(\"F1 Score estimate for the model: \", metricDf['F1 Score'].mean())"
   ]
  },
  {
   "cell_type": "code",
   "execution_count": null,
   "id": "3ec7eb2d",
   "metadata": {},
   "outputs": [],
   "source": [
    "def test_training(model):\n",
    "    #test the model \n",
    "    testNoPick=testDf[features]\n",
    "    testPick=testDf['pick']\n",
    "\n",
    "    # Predict if player was selected for the draft on the test set\n",
    "    predTest = model.predict(testNoPick)\n",
    "\n",
    "    #preformance metrics for test set\n",
    "    tPrecision = precision_score(testPick, predTest)\n",
    "    tRecall = recall_score(testPick, predTest)\n",
    "    tF1 = f1_score(testPick, predTest)\n",
    "    tAccuracy = accuracy_score(testPick, predTest)\n",
    "    return tPrecision, tRecall, tF1, tAccuracy"
   ]
  },
  {
   "cell_type": "code",
   "execution_count": null,
   "id": "0aa9bcb7",
   "metadata": {},
   "outputs": [],
   "source": [
    "def print_test(tPrecision, tRecall, tF1, tAccuracy):\n",
    "    print('Accuracy on Test Set:', tAccuracy)\n",
    "    print('Precision on Test Set:', tPrecision)\n",
    "    print('Recall on Test Set:', tRecall)\n",
    "    print('F1-score on Test Set:', tF1)"
   ]
  },
  {
   "cell_type": "code",
   "execution_count": null,
   "id": "616a8071",
   "metadata": {},
   "outputs": [],
   "source": [
    "c = 0\n",
    "while(c < 0.33):\n",
    "    t = get_sets()\n",
    "    x, y, m = run_training(t)\n",
    "    a, b, c, d = test_training(m)\n",
    "train_stats(x, y)\n",
    "print_test(a, b, c, d)"
   ]
  },
  {
   "cell_type": "code",
   "execution_count": null,
   "id": "ca933cd8",
   "metadata": {},
   "outputs": [],
   "source": [
    "#plot testing \n",
    "metrics = ['Accuracy','Precision', 'Recall', 'F1 Score']\n",
    "scores = [0.9377777777777778, 0.7527172042497118,  0.5 , 0.580708919861887]\n",
    "\n",
    "plt.figure(figsize=(8, 5))\n",
    "plt.bar(metrics, scores, color=['orange','blue', 'orange', 'blue'])\n",
    "plt.xlabel('Metrics')\n",
    "plt.ylabel('Scores')\n",
    "plt.title('Performance Metrics on Training Set')\n",
    "plt.ylim(0, 1)\n",
    "plt.show()"
   ]
  },
  {
   "cell_type": "code",
   "execution_count": null,
   "id": "0a300513",
   "metadata": {},
   "outputs": [],
   "source": [
    "#plot testing \n",
    "metrics = ['Accuracy','Precision', 'Recall', 'F1 Score']\n",
    "scores = [0.9904524699045247, 0.4,  0.3 , 0.34285714285714286]\n",
    "\n",
    "plt.figure(figsize=(8, 5))\n",
    "plt.bar(metrics, scores, color=['orange','blue', 'orange', 'blue'])\n",
    "plt.xlabel('Metrics')\n",
    "plt.ylabel('Scores')\n",
    "plt.title('Performance Metrics on Training Set')\n",
    "plt.ylim(0, 1)\n",
    "plt.show()"
   ]
  }
 ],
 "metadata": {
  "kernelspec": {
   "display_name": "Python 3 (ipykernel)",
   "language": "python",
   "name": "python3"
  },
  "language_info": {
   "codemirror_mode": {
    "name": "ipython",
    "version": 3
   },
   "file_extension": ".py",
   "mimetype": "text/x-python",
   "name": "python",
   "nbconvert_exporter": "python",
   "pygments_lexer": "ipython3",
   "version": "3.10.9"
  }
 },
 "nbformat": 4,
 "nbformat_minor": 5
}
